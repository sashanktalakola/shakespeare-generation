{
 "cells": [
  {
   "cell_type": "markdown",
   "id": "c89df966-fc00-4c24-93db-659fe0eb75a1",
   "metadata": {},
   "source": [
    "# Libraries"
   ]
  },
  {
   "cell_type": "code",
   "execution_count": 1,
   "id": "dd82402b-498f-4cc5-b562-baa7a0f4b742",
   "metadata": {},
   "outputs": [],
   "source": [
    "import torch\n",
    "import torch.nn as nn\n",
    "import torch.nn.functional as F\n",
    "\n",
    "import torch.optim as optim\n",
    "from torch.utils.data import Dataset, DataLoader\n",
    "\n",
    "from tqdm import tqdm"
   ]
  },
  {
   "cell_type": "code",
   "execution_count": 2,
   "id": "b809a78c-6194-45bc-b27c-18ed2430c7d8",
   "metadata": {},
   "outputs": [],
   "source": [
    "device = torch.device(\"cuda\" if torch.cuda.is_available() else \"cpu\")"
   ]
  },
  {
   "cell_type": "markdown",
   "id": "a724afd5-7876-4bdb-ba84-9f46e3495936",
   "metadata": {},
   "source": [
    "# Data Processing"
   ]
  },
  {
   "cell_type": "code",
   "execution_count": 3,
   "id": "df90bb52-fac2-4df6-a60f-6acf3e325af7",
   "metadata": {},
   "outputs": [],
   "source": [
    "data = None\n",
    "\n",
    "with open(\"text.txt\", \"r\") as f:\n",
    "    data = f.read()"
   ]
  },
  {
   "cell_type": "code",
   "execution_count": 4,
   "id": "15507d78-974f-41ad-a53f-d20e243f8602",
   "metadata": {},
   "outputs": [],
   "source": [
    "data = data[:100000]"
   ]
  },
  {
   "cell_type": "code",
   "execution_count": 5,
   "id": "043ee143-1306-45ba-87d3-23e0347f73c2",
   "metadata": {},
   "outputs": [
    {
     "name": "stdout",
     "output_type": "stream",
     "text": [
      "Vocabulary -\n",
      "['\\n', ' ', '!', '&', \"'\", ',', '-', '.', ':', ';', '?', 'A', 'B', 'C', 'D', 'E', 'F', 'G', 'H', 'I', 'J', 'K', 'L', 'M', 'N', 'O', 'P', 'Q', 'R', 'S', 'T', 'U', 'V', 'W', 'Y', 'a', 'b', 'c', 'd', 'e', 'f', 'g', 'h', 'i', 'j', 'k', 'l', 'm', 'n', 'o', 'p', 'q', 'r', 's', 't', 'u', 'v', 'w', 'x', 'y', 'z']\n",
      "\n",
      "Vocab Size - 61\n"
     ]
    }
   ],
   "source": [
    "vocab = set(data)\n",
    "\n",
    "vocab = sorted(vocab)\n",
    "\n",
    "print(f\"Vocabulary -\\n{vocab}\\n\")\n",
    "print(f\"Vocab Size - {len(vocab)}\")"
   ]
  },
  {
   "cell_type": "code",
   "execution_count": 6,
   "id": "8bdac180-0cf9-497d-9262-4abe0aa5d8f1",
   "metadata": {},
   "outputs": [],
   "source": [
    "char_to_idx = {char: i for i, char in enumerate(vocab)}\n",
    "idx_to_char = {v: k for k, v in char_to_idx.items()}"
   ]
  },
  {
   "cell_type": "code",
   "execution_count": 7,
   "id": "4d483cf1-fcb1-43b6-82b1-e4ef2ba2ee70",
   "metadata": {},
   "outputs": [],
   "source": [
    "split_index = int(len(data) * 0.8)\n",
    "\n",
    "train_data = data[:split_index]\n",
    "val_data = data[split_index:]"
   ]
  },
  {
   "cell_type": "markdown",
   "id": "04d64804-d307-4a48-998e-6ced6e06d9db",
   "metadata": {},
   "source": [
    "# Dataset and DataLoader"
   ]
  },
  {
   "cell_type": "code",
   "execution_count": 8,
   "id": "7ae55347-b220-46bf-aed4-01f45c26911a",
   "metadata": {},
   "outputs": [],
   "source": [
    "class ShakespeareDataset(Dataset):\n",
    "    def __init__(self, data, vocab, context_length):\n",
    "\n",
    "        self.data = data\n",
    "        self.context_length = context_length\n",
    "        \n",
    "        self.vocab = vocab\n",
    "        self.vocab_size = len(vocab)\n",
    "\n",
    "\n",
    "    def __len__(self):\n",
    "        return len(self.data) - self.context_length - 1\n",
    "\n",
    "\n",
    "    def __getitem__(self, i):\n",
    "\n",
    "        context = self.data[i : i+self.context_length]\n",
    "        next_token = self.data[i+self.context_length]\n",
    "\n",
    "        context_tokens = list(context)\n",
    "        encoded_tokens = [char_to_idx[token] for token in context_tokens]\n",
    "        encoded_next_token = char_to_idx[next_token]\n",
    "\n",
    "        return torch.tensor(encoded_tokens), torch.tensor(encoded_next_token)"
   ]
  },
  {
   "cell_type": "code",
   "execution_count": 9,
   "id": "6e4d8a08-f945-4ae2-b56a-6a0e80895448",
   "metadata": {},
   "outputs": [],
   "source": [
    "train_dataset = ShakespeareDataset(train_data, vocab, context_length=100)\n",
    "val_dataset = ShakespeareDataset(val_data, vocab, context_length=100)\n",
    "\n",
    "batch_size = 128\n",
    "\n",
    "train_loader = DataLoader(train_dataset, batch_size=batch_size, shuffle=True)\n",
    "val_loader = DataLoader(val_dataset, batch_size=batch_size)"
   ]
  },
  {
   "cell_type": "code",
   "execution_count": 10,
   "id": "2e4c79fb-8985-416d-8c38-e5009f119d83",
   "metadata": {},
   "outputs": [
    {
     "data": {
      "text/plain": [
       "(torch.Size([128, 100]), torch.Size([128]))"
      ]
     },
     "execution_count": 10,
     "metadata": {},
     "output_type": "execute_result"
    }
   ],
   "source": [
    "a, b = next(iter(train_loader))\n",
    "\n",
    "a.size(), b.size()"
   ]
  },
  {
   "cell_type": "code",
   "execution_count": null,
   "id": "6a2ff5e9-b0ed-4fb8-8939-a5f46a2b0120",
   "metadata": {},
   "outputs": [],
   "source": []
  }
 ],
 "metadata": {
  "kernelspec": {
   "display_name": "Python 3 (ipykernel)",
   "language": "python",
   "name": "python3"
  },
  "language_info": {
   "codemirror_mode": {
    "name": "ipython",
    "version": 3
   },
   "file_extension": ".py",
   "mimetype": "text/x-python",
   "name": "python",
   "nbconvert_exporter": "python",
   "pygments_lexer": "ipython3",
   "version": "3.12.3"
  }
 },
 "nbformat": 4,
 "nbformat_minor": 5
}
