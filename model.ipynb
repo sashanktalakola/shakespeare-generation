{
 "cells": [
  {
   "cell_type": "markdown",
   "id": "c89df966-fc00-4c24-93db-659fe0eb75a1",
   "metadata": {},
   "source": [
    "# Libraries"
   ]
  },
  {
   "cell_type": "code",
   "execution_count": 1,
   "id": "dd82402b-498f-4cc5-b562-baa7a0f4b742",
   "metadata": {},
   "outputs": [],
   "source": [
    "import torch\n",
    "import torch.nn as nn\n",
    "import torch.nn.functional as F\n",
    "\n",
    "import torch.optim as optim\n",
    "from torch.utils.data import Dataset, DataLoader\n",
    "\n",
    "from tqdm import tqdm"
   ]
  },
  {
   "cell_type": "code",
   "execution_count": 2,
   "id": "b809a78c-6194-45bc-b27c-18ed2430c7d8",
   "metadata": {},
   "outputs": [],
   "source": [
    "device = torch.device(\"cuda\" if torch.cuda.is_available() else \"cpu\")"
   ]
  },
  {
   "cell_type": "markdown",
   "id": "a724afd5-7876-4bdb-ba84-9f46e3495936",
   "metadata": {},
   "source": [
    "# Data Processing"
   ]
  },
  {
   "cell_type": "code",
   "execution_count": 3,
   "id": "df90bb52-fac2-4df6-a60f-6acf3e325af7",
   "metadata": {},
   "outputs": [],
   "source": [
    "data = None\n",
    "\n",
    "with open(\"text.txt\", \"r\") as f:\n",
    "    data = f.read()"
   ]
  },
  {
   "cell_type": "code",
   "execution_count": 4,
   "id": "15507d78-974f-41ad-a53f-d20e243f8602",
   "metadata": {},
   "outputs": [],
   "source": [
    "data = data[:100000]"
   ]
  },
  {
   "cell_type": "code",
   "execution_count": 5,
   "id": "043ee143-1306-45ba-87d3-23e0347f73c2",
   "metadata": {},
   "outputs": [
    {
     "name": "stdout",
     "output_type": "stream",
     "text": [
      "Vocabulary -\n",
      "['\\n', ' ', '!', '&', \"'\", ',', '-', '.', ':', ';', '?', 'A', 'B', 'C', 'D', 'E', 'F', 'G', 'H', 'I', 'J', 'K', 'L', 'M', 'N', 'O', 'P', 'Q', 'R', 'S', 'T', 'U', 'V', 'W', 'Y', 'a', 'b', 'c', 'd', 'e', 'f', 'g', 'h', 'i', 'j', 'k', 'l', 'm', 'n', 'o', 'p', 'q', 'r', 's', 't', 'u', 'v', 'w', 'x', 'y', 'z']\n",
      "\n",
      "Vocab Size - 61\n"
     ]
    }
   ],
   "source": [
    "vocab = set(data)\n",
    "\n",
    "vocab = sorted(vocab)\n",
    "\n",
    "print(f\"Vocabulary -\\n{vocab}\\n\")\n",
    "print(f\"Vocab Size - {len(vocab)}\")"
   ]
  },
  {
   "cell_type": "code",
   "execution_count": 6,
   "id": "8bdac180-0cf9-497d-9262-4abe0aa5d8f1",
   "metadata": {},
   "outputs": [],
   "source": [
    "char_to_idx = {char: i for i, char in enumerate(vocab)}\n",
    "idx_to_char = {v: k for k, v in char_to_idx.items()}"
   ]
  },
  {
   "cell_type": "code",
   "execution_count": 7,
   "id": "4d483cf1-fcb1-43b6-82b1-e4ef2ba2ee70",
   "metadata": {},
   "outputs": [],
   "source": [
    "split_index = int(len(data) * 0.8)\n",
    "\n",
    "train_data = data[:split_index]\n",
    "val_data = data[split_index:]"
   ]
  },
  {
   "cell_type": "markdown",
   "id": "04d64804-d307-4a48-998e-6ced6e06d9db",
   "metadata": {},
   "source": [
    "# Dataset and DataLoader"
   ]
  },
  {
   "cell_type": "code",
   "execution_count": 8,
   "id": "7ae55347-b220-46bf-aed4-01f45c26911a",
   "metadata": {},
   "outputs": [],
   "source": [
    "class ShakespeareDataset(Dataset):\n",
    "    def __init__(self, data, vocab, context_length):\n",
    "\n",
    "        self.data = data\n",
    "        self.context_length = context_length\n",
    "        \n",
    "        self.vocab = vocab\n",
    "        self.vocab_size = len(vocab)\n",
    "\n",
    "\n",
    "    def __len__(self):\n",
    "        return len(self.data) - self.context_length - 1\n",
    "\n",
    "\n",
    "    def __getitem__(self, i):\n",
    "\n",
    "        context = self.data[i : i+self.context_length]\n",
    "        next_token = self.data[i+self.context_length]\n",
    "\n",
    "        context_tokens = list(context)\n",
    "        encoded_tokens = [char_to_idx[token] for token in context_tokens]\n",
    "        encoded_next_token = char_to_idx[next_token]\n",
    "\n",
    "        return torch.tensor(encoded_tokens), torch.tensor(encoded_next_token)"
   ]
  },
  {
   "cell_type": "code",
   "execution_count": 9,
   "id": "6e4d8a08-f945-4ae2-b56a-6a0e80895448",
   "metadata": {},
   "outputs": [],
   "source": [
    "train_dataset = ShakespeareDataset(train_data, vocab, context_length=100)\n",
    "val_dataset = ShakespeareDataset(val_data, vocab, context_length=100)\n",
    "\n",
    "batch_size = 128\n",
    "\n",
    "train_loader = DataLoader(train_dataset, batch_size=batch_size, shuffle=True)\n",
    "val_loader = DataLoader(val_dataset, batch_size=batch_size)"
   ]
  },
  {
   "cell_type": "code",
   "execution_count": 10,
   "id": "2e4c79fb-8985-416d-8c38-e5009f119d83",
   "metadata": {},
   "outputs": [
    {
     "data": {
      "text/plain": [
       "(torch.Size([128, 100]), torch.Size([128]))"
      ]
     },
     "execution_count": 10,
     "metadata": {},
     "output_type": "execute_result"
    }
   ],
   "source": [
    "a, b = next(iter(train_loader))\n",
    "\n",
    "a.size(), b.size()"
   ]
  },
  {
   "cell_type": "markdown",
   "id": "384a6d65-daa9-4c61-a532-41a48efa4561",
   "metadata": {},
   "source": [
    "# Model Architecture"
   ]
  },
  {
   "cell_type": "code",
   "execution_count": null,
   "id": "bf9ce5e5-c743-40b4-91ef-4441686bad3d",
   "metadata": {},
   "outputs": [],
   "source": [
    "class ShakespeareModel(nn.Module):\n",
    "    def __init__(self, vocab_size, d_model=512, nhead=8, num_layers=6, context_length=512):\n",
    "        super(ShakespeareModel, self).__init__()\n",
    "        \n",
    "        self.embedding = nn.Embedding(vocab_size, d_model)\n",
    "        self.positional_encoding = nn.Embedding(context_length, d_model)\n",
    "        \n",
    "        self.decoder_layer = nn.TransformerDecoderLayer(d_model=d_model, nhead=nhead)\n",
    "        self.transformer_decoder = nn.TransformerDecoder(self.decoder_layer, num_layers=num_layers)\n",
    "        \n",
    "        self.fc = nn.Linear(d_model, vocab_size)\n",
    "\n",
    "    def forward(self, x):\n",
    "        \n",
    "        seq_length = x.size(1)\n",
    "        \n",
    "        position_indices = torch.arange(seq_length, device=x.device).unsqueeze(0).expand(x.size(0), -1)\n",
    "        embedded = self.embedding(x) + self.positional_encoding(position_indices)\n",
    "        \n",
    "        output = self.transformer_decoder(embedded, embedded)\n",
    "        \n",
    "        output = output[:, -1, :]\n",
    "        logits = self.fc(output)\n",
    "        \n",
    "        return logits"
   ]
  },
  {
   "cell_type": "code",
   "execution_count": null,
   "id": "1e6c5991-cbae-4044-baca-f462558c9309",
   "metadata": {},
   "outputs": [],
   "source": [
    "vocab_size = len(vocab)\n",
    "\n",
    "model = ShakespeareModel(vocab_size, d_model=128, nhead=8, num_layers=6, context_length=512).to(device)"
   ]
  },
  {
   "cell_type": "markdown",
   "id": "79b27473-a563-491f-943b-64fafdf7d1c0",
   "metadata": {},
   "source": [
    "# Training & Validation Loops"
   ]
  },
  {
   "cell_type": "code",
   "execution_count": null,
   "id": "dd73a641-fc01-4789-91c1-9802a2fbbdfe",
   "metadata": {},
   "outputs": [],
   "source": [
    "leanring_rate = 1e-4\n",
    "\n",
    "criterion = nn.CrossEntropyLoss()\n",
    "optimizer = optim.Adam(model.parameters(), lr=leanring_rate)"
   ]
  },
  {
   "cell_type": "code",
   "execution_count": null,
   "id": "247bbedf-acee-466e-bc1c-5f42cf88e1f9",
   "metadata": {},
   "outputs": [],
   "source": [
    "def train_epoch(model, dataloader, optimizer, criterion, device):\n",
    "    \n",
    "    model.train()\n",
    "    total_loss = 0\n",
    "\n",
    "    progress_bar = tqdm(dataloader, desc=\"Training\")\n",
    "    for input_context, next_tokens in progress_bar:\n",
    "        optimizer.zero_grad()\n",
    "        \n",
    "        input_context = input_context.to(device)\n",
    "        next_tokens = next_tokens.to(device)\n",
    "        \n",
    "        logits = model(input_context)\n",
    "\n",
    "        loss = criterion(logits, next_tokens)\n",
    "        total_loss += loss.item()\n",
    "\n",
    "        loss.backward()\n",
    "        optimizer.step()\n",
    "\n",
    "        progress_bar.set_postfix(loss=f'{loss.item():.4f}')\n",
    "\n",
    "    avg_loss = total_loss / len(dataloader)\n",
    "    return avg_loss"
   ]
  },
  {
   "cell_type": "code",
   "execution_count": null,
   "id": "bdb40950-8d55-498b-96d0-7bdb7c7ac766",
   "metadata": {},
   "outputs": [],
   "source": [
    "def val_epoch(model, dataloader, criterion, device):\n",
    "    \n",
    "    model.eval()\n",
    "    total_loss = 0\n",
    "\n",
    "    with torch.inference_mode():\n",
    "\n",
    "        progress_bar = tqdm(dataloader, desc=\"Validation\")\n",
    "        for input_context, next_tokens in progress_bar:\n",
    "            \n",
    "            input_context = input_context.to(device)\n",
    "            next_tokens = next_tokens.to(device)\n",
    "            \n",
    "            logits = model(input_context)\n",
    "\n",
    "            loss = criterion(logits, next_tokens)\n",
    "            total_loss += loss.item()\n",
    "\n",
    "            progress_bar.set_postfix(loss=f'{loss.item():.4f}')\n",
    "\n",
    "    avg_loss = total_loss / len(dataloader)\n",
    "    return avg_loss"
   ]
  },
  {
   "cell_type": "code",
   "execution_count": null,
   "id": "e4dc51be-9165-4d32-a378-e51466d43f77",
   "metadata": {},
   "outputs": [],
   "source": [
    "def train_model(model, train_loader, val_loader, criterion, device, num_epochs):\n",
    "\n",
    "    for epoch in range(1, num_epochs+1):\n",
    "\n",
    "        print(f\"Epoch - [{epoch}/{num_epochs}]\")\n",
    "        train_loss = train_epoch(model, train_loader, optimizer, criterion, device)\n",
    "        val_loss = val_epoch(model, val_loader, criterion, device)\n",
    "\n",
    "        print(\"Train Loss -\", train_loss)\n",
    "        print(\"Val Loss -\", val_loss, \"\\n\")"
   ]
  },
  {
   "cell_type": "markdown",
   "id": "20b1a3e7-0abd-4180-8553-555715baff64",
   "metadata": {},
   "source": [
    "# Generation"
   ]
  },
  {
   "cell_type": "code",
   "execution_count": null,
   "id": "9b2b59cb-ca2d-4f45-96fc-d3e34f255792",
   "metadata": {},
   "outputs": [],
   "source": [
    "def generate(model, start_sequence, max_length=100):\n",
    "    model.eval()\n",
    "    \n",
    "    with torch.inference_mode():\n",
    "        start_tensor = torch.tensor(start_sequence, device=\"cuda\").unsqueeze(0)\n",
    "        generated_sequence = start_tensor\n",
    "        \n",
    "        for _ in range(max_length):\n",
    "            input_seq = generated_sequence\n",
    "            logits = model(input_seq)\n",
    "            probs = torch.softmax(logits, dim=-1)\n",
    "            next_token = torch.multinomial(probs, num_samples=1)\n",
    "            generated_sequence = torch.cat((generated_sequence, next_token), dim=1)\n",
    "\n",
    "    return generated_sequence.squeeze().cpu().numpy().tolist()"
   ]
  },
  {
   "cell_type": "code",
   "execution_count": null,
   "id": "758fccae-6320-4f3e-9c5c-50ac933ef0ca",
   "metadata": {},
   "outputs": [],
   "source": [
    "start_char = \"First\"\n",
    "start_token = [char_to_idx[char] for char in start_char]\n",
    "\n",
    "generated_tokens = generate(model, start_token)\n",
    "generated_text = [idx_to_char[item] for item in generated_tokens]\n",
    "\n",
    "\"\".join(generated_text)"
   ]
  },
  {
   "cell_type": "code",
   "execution_count": null,
   "id": "aee692dc-d613-459b-b1c9-af8a34459366",
   "metadata": {},
   "outputs": [],
   "source": []
  }
 ],
 "metadata": {
  "kernelspec": {
   "display_name": "Python 3 (ipykernel)",
   "language": "python",
   "name": "python3"
  },
  "language_info": {
   "codemirror_mode": {
    "name": "ipython",
    "version": 3
   },
   "file_extension": ".py",
   "mimetype": "text/x-python",
   "name": "python",
   "nbconvert_exporter": "python",
   "pygments_lexer": "ipython3",
   "version": "3.12.3"
  }
 },
 "nbformat": 4,
 "nbformat_minor": 5
}
