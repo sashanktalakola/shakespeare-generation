{
 "cells": [
  {
   "cell_type": "markdown",
   "id": "c89df966-fc00-4c24-93db-659fe0eb75a1",
   "metadata": {},
   "source": [
    "# Libraries"
   ]
  },
  {
   "cell_type": "code",
   "execution_count": 1,
   "id": "dd82402b-498f-4cc5-b562-baa7a0f4b742",
   "metadata": {},
   "outputs": [],
   "source": [
    "import torch\n",
    "import torch.nn as nn\n",
    "import torch.nn.functional as F\n",
    "\n",
    "import torch.optim as optim\n",
    "from torch.utils.data import Dataset, DataLoader\n",
    "\n",
    "from tqdm import tqdm"
   ]
  },
  {
   "cell_type": "code",
   "execution_count": 2,
   "id": "b809a78c-6194-45bc-b27c-18ed2430c7d8",
   "metadata": {},
   "outputs": [],
   "source": [
    "device = torch.device(\"cuda\" if torch.cuda.is_available() else \"cpu\")"
   ]
  },
  {
   "cell_type": "markdown",
   "id": "a724afd5-7876-4bdb-ba84-9f46e3495936",
   "metadata": {},
   "source": [
    "# Data Processing"
   ]
  },
  {
   "cell_type": "code",
   "execution_count": 3,
   "id": "df90bb52-fac2-4df6-a60f-6acf3e325af7",
   "metadata": {},
   "outputs": [],
   "source": [
    "data = None\n",
    "\n",
    "with open(\"text.txt\", \"r\") as f:\n",
    "    data = f.read()"
   ]
  },
  {
   "cell_type": "code",
   "execution_count": 4,
   "id": "15507d78-974f-41ad-a53f-d20e243f8602",
   "metadata": {},
   "outputs": [],
   "source": [
    "data = data[:100000]"
   ]
  },
  {
   "cell_type": "code",
   "execution_count": 5,
   "id": "043ee143-1306-45ba-87d3-23e0347f73c2",
   "metadata": {},
   "outputs": [
    {
     "name": "stdout",
     "output_type": "stream",
     "text": [
      "Vocabulary -\n",
      "['\\n', ' ', '!', '&', \"'\", ',', '-', '.', ':', ';', '?', 'A', 'B', 'C', 'D', 'E', 'F', 'G', 'H', 'I', 'J', 'K', 'L', 'M', 'N', 'O', 'P', 'Q', 'R', 'S', 'T', 'U', 'V', 'W', 'Y', 'a', 'b', 'c', 'd', 'e', 'f', 'g', 'h', 'i', 'j', 'k', 'l', 'm', 'n', 'o', 'p', 'q', 'r', 's', 't', 'u', 'v', 'w', 'x', 'y', 'z']\n",
      "\n",
      "Vocab Size - 61\n"
     ]
    }
   ],
   "source": [
    "vocab = set(data)\n",
    "\n",
    "vocab = sorted(vocab)\n",
    "\n",
    "print(f\"Vocabulary -\\n{vocab}\\n\")\n",
    "print(f\"Vocab Size - {len(vocab)}\")"
   ]
  },
  {
   "cell_type": "code",
   "execution_count": 6,
   "id": "8bdac180-0cf9-497d-9262-4abe0aa5d8f1",
   "metadata": {},
   "outputs": [],
   "source": [
    "char_to_idx = {char: i for i, char in enumerate(vocab)}\n",
    "idx_to_char = {v: k for k, v in char_to_idx.items()}"
   ]
  },
  {
   "cell_type": "code",
   "execution_count": 7,
   "id": "4d483cf1-fcb1-43b6-82b1-e4ef2ba2ee70",
   "metadata": {},
   "outputs": [],
   "source": [
    "split_index = int(len(data) * 0.8)\n",
    "\n",
    "train_data = data[:split_index]\n",
    "val_data = data[split_index:]"
   ]
  },
  {
   "cell_type": "markdown",
   "id": "04d64804-d307-4a48-998e-6ced6e06d9db",
   "metadata": {},
   "source": [
    "# Dataset and DataLoader"
   ]
  },
  {
   "cell_type": "code",
   "execution_count": 8,
   "id": "7ae55347-b220-46bf-aed4-01f45c26911a",
   "metadata": {},
   "outputs": [],
   "source": [
    "class ShakespeareDataset(Dataset):\n",
    "    def __init__(self, data, vocab, context_length):\n",
    "\n",
    "        self.data = data\n",
    "        self.context_length = context_length\n",
    "        \n",
    "        self.vocab = vocab\n",
    "        self.vocab_size = len(vocab)\n",
    "\n",
    "\n",
    "    def __len__(self):\n",
    "        return len(self.data) - self.context_length - 1\n",
    "\n",
    "\n",
    "    def __getitem__(self, i):\n",
    "\n",
    "        context = self.data[i : i+self.context_length]\n",
    "        next_token = self.data[i+self.context_length]\n",
    "\n",
    "        context_tokens = list(context)\n",
    "        encoded_tokens = [char_to_idx[token] for token in context_tokens]\n",
    "        encoded_next_token = char_to_idx[next_token]\n",
    "\n",
    "        return torch.tensor(encoded_tokens), torch.tensor(encoded_next_token)"
   ]
  },
  {
   "cell_type": "code",
   "execution_count": 9,
   "id": "6e4d8a08-f945-4ae2-b56a-6a0e80895448",
   "metadata": {},
   "outputs": [],
   "source": [
    "train_dataset = ShakespeareDataset(train_data, vocab, context_length=100)\n",
    "val_dataset = ShakespeareDataset(val_data, vocab, context_length=100)\n",
    "\n",
    "batch_size = 128\n",
    "\n",
    "train_loader = DataLoader(train_dataset, batch_size=batch_size, shuffle=True)\n",
    "val_loader = DataLoader(val_dataset, batch_size=batch_size)"
   ]
  },
  {
   "cell_type": "code",
   "execution_count": 10,
   "id": "2e4c79fb-8985-416d-8c38-e5009f119d83",
   "metadata": {},
   "outputs": [
    {
     "data": {
      "text/plain": [
       "(torch.Size([128, 100]), torch.Size([128]))"
      ]
     },
     "execution_count": 10,
     "metadata": {},
     "output_type": "execute_result"
    }
   ],
   "source": [
    "a, b = next(iter(train_loader))\n",
    "\n",
    "a.size(), b.size()"
   ]
  },
  {
   "cell_type": "markdown",
   "id": "598d96b5-57ea-4bca-a20a-73d073748047",
   "metadata": {},
   "source": [
    "# Model Architecture"
   ]
  },
  {
   "cell_type": "code",
   "execution_count": 11,
   "id": "287057ab-d161-4db4-9ab6-ff14433f074c",
   "metadata": {},
   "outputs": [],
   "source": [
    "class ShakespeareModel(nn.Module):\n",
    "    def __init__(self, vocab_size, d_model=512, nhead=8, num_layers=6, context_length=512):\n",
    "        super(ShakespeareModel, self).__init__()\n",
    "        \n",
    "        self.embedding = nn.Embedding(vocab_size, d_model)\n",
    "        self.positional_encoding = nn.Embedding(context_length, d_model)\n",
    "        \n",
    "        self.decoder_layer = nn.TransformerDecoderLayer(d_model=d_model, nhead=nhead)\n",
    "        self.transformer_decoder = nn.TransformerDecoder(self.decoder_layer, num_layers=num_layers)\n",
    "        \n",
    "        self.fc = nn.Linear(d_model, vocab_size)\n",
    "\n",
    "    def forward(self, x):\n",
    "        \n",
    "        seq_length = x.size(1)\n",
    "        \n",
    "        position_indices = torch.arange(seq_length, device=x.device).unsqueeze(0).expand(x.size(0), -1)\n",
    "        embedded = self.embedding(x) + self.positional_encoding(position_indices)\n",
    "        \n",
    "        output = self.transformer_decoder(embedded, embedded)\n",
    "        \n",
    "        output = output[:, -1, :]\n",
    "        logits = self.fc(output)\n",
    "        \n",
    "        return logits"
   ]
  },
  {
   "cell_type": "code",
   "execution_count": 12,
   "id": "f40bfb6a-164c-4017-a41d-550bfd60af41",
   "metadata": {},
   "outputs": [],
   "source": [
    "vocab_size = len(vocab)\n",
    "\n",
    "model = ShakespeareModel(vocab_size, d_model=128, nhead=8, num_layers=6, context_length=512).to(device)"
   ]
  },
  {
   "cell_type": "markdown",
   "id": "76110484-e2af-4152-8496-73a863adbb54",
   "metadata": {},
   "source": [
    "# Training & Validation Loops"
   ]
  },
  {
   "cell_type": "code",
   "execution_count": 13,
   "id": "fba77a2e-a92d-4afa-809e-71875f691413",
   "metadata": {},
   "outputs": [],
   "source": [
    "leanring_rate = 1e-4\n",
    "\n",
    "criterion = nn.CrossEntropyLoss()\n",
    "optimizer = optim.Adam(model.parameters(), lr=leanring_rate)"
   ]
  },
  {
   "cell_type": "code",
   "execution_count": 14,
   "id": "fabf8535-f5a7-4acc-a96a-d77350d4f237",
   "metadata": {},
   "outputs": [],
   "source": [
    "def train_epoch(model, dataloader, optimizer, criterion, device):\n",
    "    \n",
    "    model.train()\n",
    "    total_loss = 0\n",
    "\n",
    "    progress_bar = tqdm(dataloader, desc=\"Training\")\n",
    "    for input_context, next_tokens in progress_bar:\n",
    "        optimizer.zero_grad()\n",
    "        \n",
    "        input_context = input_context.to(device)\n",
    "        next_tokens = next_tokens.to(device)\n",
    "        \n",
    "        logits = model(input_context)\n",
    "\n",
    "        loss = criterion(logits, next_tokens)\n",
    "        total_loss += loss.item()\n",
    "\n",
    "        loss.backward()\n",
    "        optimizer.step()\n",
    "\n",
    "        progress_bar.set_postfix(loss=f'{loss.item():.4f}')\n",
    "\n",
    "    avg_loss = total_loss / len(dataloader)\n",
    "    return avg_loss"
   ]
  },
  {
   "cell_type": "code",
   "execution_count": 15,
   "id": "37137c79-0419-4536-8376-57925cfba640",
   "metadata": {},
   "outputs": [],
   "source": [
    "def val_epoch(model, dataloader, criterion, device):\n",
    "    \n",
    "    model.eval()\n",
    "    total_loss = 0\n",
    "\n",
    "    with torch.inference_mode():\n",
    "\n",
    "        progress_bar = tqdm(dataloader, desc=\"Validation\")\n",
    "        for input_context, next_tokens in progress_bar:\n",
    "            \n",
    "            input_context = input_context.to(device)\n",
    "            next_tokens = next_tokens.to(device)\n",
    "            \n",
    "            logits = model(input_context)\n",
    "\n",
    "            loss = criterion(logits, next_tokens)\n",
    "            total_loss += loss.item()\n",
    "\n",
    "            progress_bar.set_postfix(loss=f'{loss.item():.4f}')\n",
    "\n",
    "    avg_loss = total_loss / len(dataloader)\n",
    "    return avg_loss"
   ]
  },
  {
   "cell_type": "code",
   "execution_count": 16,
   "id": "b30faa03-5ae8-4e3c-8e8a-bbcd066d8667",
   "metadata": {},
   "outputs": [],
   "source": [
    "def train_model(model, train_loader, val_loader, criterion, device, num_epochs):\n",
    "\n",
    "    for epoch in range(1, num_epochs+1):\n",
    "\n",
    "        print(f\"Epoch - [{epoch}/{num_epochs}]\")\n",
    "        train_loss = train_epoch(model, train_loader, optimizer, criterion, device)\n",
    "        val_loss = val_epoch(model, val_loader, criterion, device)\n",
    "\n",
    "        print(\"Train Loss -\", train_loss)\n",
    "        print(\"Val Loss -\", val_loss, \"\\n\")"
   ]
  },
  {
   "cell_type": "code",
   "execution_count": 17,
   "id": "b320a22a-1a3a-4831-97f3-63b7c29d1357",
   "metadata": {},
   "outputs": [
    {
     "name": "stdout",
     "output_type": "stream",
     "text": [
      "Epoch - [1/10]\n"
     ]
    },
    {
     "name": "stderr",
     "output_type": "stream",
     "text": [
      "Training: 100%|████████████████████████████████████████████████| 625/625 [02:22<00:00,  4.39it/s, loss=2.5111]\n",
      "Validation: 100%|██████████████████████████████████████████████| 156/156 [00:09<00:00, 15.84it/s, loss=2.6042]\n"
     ]
    },
    {
     "name": "stdout",
     "output_type": "stream",
     "text": [
      "Train Loss - 2.7007138965606687\n",
      "Val Loss - 2.4615018979097023 \n",
      "\n",
      "Epoch - [2/10]\n"
     ]
    },
    {
     "name": "stderr",
     "output_type": "stream",
     "text": [
      "Training: 100%|████████████████████████████████████████████████| 625/625 [02:22<00:00,  4.38it/s, loss=2.5282]\n",
      "Validation: 100%|██████████████████████████████████████████████| 156/156 [00:09<00:00, 15.83it/s, loss=2.4986]\n"
     ]
    },
    {
     "name": "stdout",
     "output_type": "stream",
     "text": [
      "Train Loss - 2.482807921218872\n",
      "Val Loss - 2.4254854168647375 \n",
      "\n",
      "Epoch - [3/10]\n"
     ]
    },
    {
     "name": "stderr",
     "output_type": "stream",
     "text": [
      "Training: 100%|████████████████████████████████████████████████| 625/625 [02:22<00:00,  4.39it/s, loss=2.6347]\n",
      "Validation: 100%|██████████████████████████████████████████████| 156/156 [00:09<00:00, 15.76it/s, loss=2.4532]\n"
     ]
    },
    {
     "name": "stdout",
     "output_type": "stream",
     "text": [
      "Train Loss - 2.4573816841125486\n",
      "Val Loss - 2.4074043127206655 \n",
      "\n",
      "Epoch - [4/10]\n"
     ]
    },
    {
     "name": "stderr",
     "output_type": "stream",
     "text": [
      "Training: 100%|████████████████████████████████████████████████| 625/625 [02:22<00:00,  4.38it/s, loss=2.4780]\n",
      "Validation: 100%|██████████████████████████████████████████████| 156/156 [00:09<00:00, 15.81it/s, loss=2.4897]\n"
     ]
    },
    {
     "name": "stdout",
     "output_type": "stream",
     "text": [
      "Train Loss - 2.4448219917297362\n",
      "Val Loss - 2.4048970326399193 \n",
      "\n",
      "Epoch - [5/10]\n"
     ]
    },
    {
     "name": "stderr",
     "output_type": "stream",
     "text": [
      "Training: 100%|████████████████████████████████████████████████| 625/625 [02:22<00:00,  4.38it/s, loss=2.6990]\n",
      "Validation: 100%|██████████████████████████████████████████████| 156/156 [00:09<00:00, 15.70it/s, loss=2.4730]\n"
     ]
    },
    {
     "name": "stdout",
     "output_type": "stream",
     "text": [
      "Train Loss - 2.4375887310028075\n",
      "Val Loss - 2.3992904883164625 \n",
      "\n",
      "Epoch - [6/10]\n"
     ]
    },
    {
     "name": "stderr",
     "output_type": "stream",
     "text": [
      "Training: 100%|████████████████████████████████████████████████| 625/625 [02:22<00:00,  4.38it/s, loss=2.7826]\n",
      "Validation: 100%|██████████████████████████████████████████████| 156/156 [00:09<00:00, 15.81it/s, loss=2.4773]\n"
     ]
    },
    {
     "name": "stdout",
     "output_type": "stream",
     "text": [
      "Train Loss - 2.432881823730469\n",
      "Val Loss - 2.393252670764923 \n",
      "\n",
      "Epoch - [7/10]\n"
     ]
    },
    {
     "name": "stderr",
     "output_type": "stream",
     "text": [
      "Training: 100%|████████████████████████████████████████████████| 625/625 [02:22<00:00,  4.38it/s, loss=2.7830]\n",
      "Validation: 100%|██████████████████████████████████████████████| 156/156 [00:09<00:00, 15.71it/s, loss=2.4779]\n"
     ]
    },
    {
     "name": "stdout",
     "output_type": "stream",
     "text": [
      "Train Loss - 2.4281083366394043\n",
      "Val Loss - 2.3906713785269322 \n",
      "\n",
      "Epoch - [8/10]\n"
     ]
    },
    {
     "name": "stderr",
     "output_type": "stream",
     "text": [
      "Training: 100%|████████████████████████████████████████████████| 625/625 [02:22<00:00,  4.38it/s, loss=2.3283]\n",
      "Validation: 100%|██████████████████████████████████████████████| 156/156 [00:09<00:00, 15.76it/s, loss=2.4821]\n"
     ]
    },
    {
     "name": "stdout",
     "output_type": "stream",
     "text": [
      "Train Loss - 2.4235934974670412\n",
      "Val Loss - 2.399733528112754 \n",
      "\n",
      "Epoch - [9/10]\n"
     ]
    },
    {
     "name": "stderr",
     "output_type": "stream",
     "text": [
      "Training: 100%|████████████████████████████████████████████████| 625/625 [02:22<00:00,  4.38it/s, loss=2.5783]\n",
      "Validation: 100%|██████████████████████████████████████████████| 156/156 [00:09<00:00, 15.81it/s, loss=2.4903]\n"
     ]
    },
    {
     "name": "stdout",
     "output_type": "stream",
     "text": [
      "Train Loss - 2.4223732902526853\n",
      "Val Loss - 2.3930405515890856 \n",
      "\n",
      "Epoch - [10/10]\n"
     ]
    },
    {
     "name": "stderr",
     "output_type": "stream",
     "text": [
      "Training: 100%|████████████████████████████████████████████████| 625/625 [02:22<00:00,  4.38it/s, loss=2.2504]\n",
      "Validation: 100%|██████████████████████████████████████████████| 156/156 [00:09<00:00, 15.82it/s, loss=2.4841]"
     ]
    },
    {
     "name": "stdout",
     "output_type": "stream",
     "text": [
      "Train Loss - 2.4192528884887694\n",
      "Val Loss - 2.388628514913412 \n",
      "\n"
     ]
    },
    {
     "name": "stderr",
     "output_type": "stream",
     "text": [
      "\n"
     ]
    }
   ],
   "source": [
    "train_model(model, train_loader, val_loader, criterion, device, num_epochs=10)"
   ]
  },
  {
   "cell_type": "markdown",
   "id": "63f9e945-1a65-40ef-a4ab-a787adbeeb29",
   "metadata": {},
   "source": [
    "# Generation"
   ]
  },
  {
   "cell_type": "code",
   "execution_count": 39,
   "id": "e9607eb3-f23e-4d45-b2be-d32629adeefe",
   "metadata": {},
   "outputs": [],
   "source": [
    "def generate(model, start_sequence, max_length=100):\n",
    "    model.eval()\n",
    "    \n",
    "    with torch.inference_mode():\n",
    "        start_tensor = torch.tensor(start_sequence, device=\"cuda\").unsqueeze(0)\n",
    "        generated_sequence = start_tensor\n",
    "        \n",
    "        for _ in range(max_length):\n",
    "            input_seq = generated_sequence\n",
    "            logits = model(input_seq)\n",
    "            probs = torch.softmax(logits, dim=-1)\n",
    "            next_token = torch.multinomial(probs, num_samples=1)\n",
    "            generated_sequence = torch.cat((generated_sequence, next_token), dim=1)\n",
    "\n",
    "    return generated_sequence.squeeze().cpu().numpy().tolist()"
   ]
  },
  {
   "cell_type": "code",
   "execution_count": null,
   "id": "01554a8d-d9de-4308-aeda-a7541ebf7ac5",
   "metadata": {},
   "outputs": [],
   "source": [
    "start_char = \"First\"\n",
    "start_token = [char_to_idx[char] for char in start_char]\n",
    "\n",
    "generated_tokens = generate(model, start_token)\n",
    "generated_text = [idx_to_char[item] for item in generated_tokens]\n",
    "\n",
    "\"\".join(generated_text)"
   ]
  },
  {
   "cell_type": "code",
   "execution_count": null,
   "id": "6a2ff5e9-b0ed-4fb8-8939-a5f46a2b0120",
   "metadata": {},
   "outputs": [],
   "source": []
  }
 ],
 "metadata": {
  "kernelspec": {
   "display_name": "Python 3 (ipykernel)",
   "language": "python",
   "name": "python3"
  },
  "language_info": {
   "codemirror_mode": {
    "name": "ipython",
    "version": 3
   },
   "file_extension": ".py",
   "mimetype": "text/x-python",
   "name": "python",
   "nbconvert_exporter": "python",
   "pygments_lexer": "ipython3",
   "version": "3.12.3"
  }
 },
 "nbformat": 4,
 "nbformat_minor": 5
}
